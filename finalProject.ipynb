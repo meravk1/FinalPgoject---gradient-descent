{
  "cells": [
    {
      "cell_type": "markdown",
      "id": "f8fdeb6a",
      "metadata": {},
      "source": [
        "# <font color='red'> Final project Python </font>\n",
        "##  In this notebook we try to find the slope of gragh \n",
        "### we get a db file with points that near the graph\n",
        "### we know the graph is like <font color='red'> y=m*x <font/>\n",
        "### and we need to find the <font color='red'>m<font/>\n",
        "### we started !"
      ]
    },
    {
      "cell_type": "code",
      "execution_count": 3,
      "id": "149915d2-4315-4ebb-80a2-9e7356e44386",
      "metadata": {
        "trusted": true
      },
      "outputs": [
        {
          "ename": "ModuleNotFoundError",
          "evalue": "No module named 'seaborn'",
          "output_type": "error",
          "traceback": [
            "\u001b[1;31m---------------------------------------------------------------------------\u001b[0m",
            "\u001b[1;31mModuleNotFoundError\u001b[0m                       Traceback (most recent call last)",
            "Cell \u001b[1;32mIn[3], line 2\u001b[0m\n\u001b[0;32m      1\u001b[0m \u001b[39mimport\u001b[39;00m \u001b[39mnumpy\u001b[39;00m \u001b[39mas\u001b[39;00m \u001b[39mnp\u001b[39;00m\n\u001b[1;32m----> 2\u001b[0m \u001b[39mimport\u001b[39;00m \u001b[39mseaborn\u001b[39;00m \u001b[39mas\u001b[39;00m \u001b[39msn\u001b[39;00m\n\u001b[0;32m      3\u001b[0m \u001b[39mimport\u001b[39;00m \u001b[39mmatplotlib\u001b[39;00m\u001b[39m.\u001b[39;00m\u001b[39mpyplot\u001b[39;00m \u001b[39mas\u001b[39;00m \u001b[39mplt\u001b[39;00m\n\u001b[0;32m      4\u001b[0m \u001b[39mimport\u001b[39;00m \u001b[39mrandom\u001b[39;00m\n",
            "\u001b[1;31mModuleNotFoundError\u001b[0m: No module named 'seaborn'"
          ]
        }
      ],
      "source": [
        "import numpy as np\n",
        "import seaborn as sn\n",
        "import matplotlib.pyplot as plt\n",
        "import random\n",
        "# import csv"
      ]
    },
    {
      "cell_type": "markdown",
      "id": "f7307282-0c59-402c-9d9c-2bb4b25ae0fe",
      "metadata": {},
      "source": [
        "### Load file from single_variable_linear_function-noise.csv"
      ]
    },
    {
      "cell_type": "code",
      "execution_count": 4,
      "id": "f1f4f145-5dc1-49d6-b624-34849e752303",
      "metadata": {
        "trusted": true
      },
      "outputs": [
        {
          "ename": "FileNotFoundError",
          "evalue": "single_variable_linear_function-noise.csv not found.",
          "output_type": "error",
          "traceback": [
            "\u001b[1;31m---------------------------------------------------------------------------\u001b[0m",
            "\u001b[1;31mFileNotFoundError\u001b[0m                         Traceback (most recent call last)",
            "Cell \u001b[1;32mIn[4], line 4\u001b[0m\n\u001b[0;32m      1\u001b[0m \u001b[39m# file = np.genfromtxt(\"single_variable_linear_function-noise.csv\")\u001b[39;00m\n\u001b[0;32m      2\u001b[0m \u001b[39m# file = np.genfromtxt('./single_variable_linear_function-noise.csv')\u001b[39;00m\n\u001b[1;32m----> 4\u001b[0m file \u001b[39m=\u001b[39m np\u001b[39m.\u001b[39;49mloadtxt(\u001b[39m'\u001b[39;49m\u001b[39msingle_variable_linear_function-noise.csv\u001b[39;49m\u001b[39m'\u001b[39;49m);\n",
            "File \u001b[1;32m~\\AppData\\Local\\Packages\\PythonSoftwareFoundation.Python.3.11_qbz5n2kfra8p0\\LocalCache\\local-packages\\Python311\\site-packages\\numpy\\lib\\npyio.py:1373\u001b[0m, in \u001b[0;36mloadtxt\u001b[1;34m(fname, dtype, comments, delimiter, converters, skiprows, usecols, unpack, ndmin, encoding, max_rows, quotechar, like)\u001b[0m\n\u001b[0;32m   1370\u001b[0m \u001b[39mif\u001b[39;00m \u001b[39misinstance\u001b[39m(delimiter, \u001b[39mbytes\u001b[39m):\n\u001b[0;32m   1371\u001b[0m     delimiter \u001b[39m=\u001b[39m delimiter\u001b[39m.\u001b[39mdecode(\u001b[39m'\u001b[39m\u001b[39mlatin1\u001b[39m\u001b[39m'\u001b[39m)\n\u001b[1;32m-> 1373\u001b[0m arr \u001b[39m=\u001b[39m _read(fname, dtype\u001b[39m=\u001b[39;49mdtype, comment\u001b[39m=\u001b[39;49mcomment, delimiter\u001b[39m=\u001b[39;49mdelimiter,\n\u001b[0;32m   1374\u001b[0m             converters\u001b[39m=\u001b[39;49mconverters, skiplines\u001b[39m=\u001b[39;49mskiprows, usecols\u001b[39m=\u001b[39;49musecols,\n\u001b[0;32m   1375\u001b[0m             unpack\u001b[39m=\u001b[39;49munpack, ndmin\u001b[39m=\u001b[39;49mndmin, encoding\u001b[39m=\u001b[39;49mencoding,\n\u001b[0;32m   1376\u001b[0m             max_rows\u001b[39m=\u001b[39;49mmax_rows, quote\u001b[39m=\u001b[39;49mquotechar)\n\u001b[0;32m   1378\u001b[0m \u001b[39mreturn\u001b[39;00m arr\n",
            "File \u001b[1;32m~\\AppData\\Local\\Packages\\PythonSoftwareFoundation.Python.3.11_qbz5n2kfra8p0\\LocalCache\\local-packages\\Python311\\site-packages\\numpy\\lib\\npyio.py:992\u001b[0m, in \u001b[0;36m_read\u001b[1;34m(fname, delimiter, comment, quote, imaginary_unit, usecols, skiplines, max_rows, converters, ndmin, unpack, dtype, encoding)\u001b[0m\n\u001b[0;32m    990\u001b[0m     fname \u001b[39m=\u001b[39m os\u001b[39m.\u001b[39mfspath(fname)\n\u001b[0;32m    991\u001b[0m \u001b[39mif\u001b[39;00m \u001b[39misinstance\u001b[39m(fname, \u001b[39mstr\u001b[39m):\n\u001b[1;32m--> 992\u001b[0m     fh \u001b[39m=\u001b[39m np\u001b[39m.\u001b[39;49mlib\u001b[39m.\u001b[39;49m_datasource\u001b[39m.\u001b[39;49mopen(fname, \u001b[39m'\u001b[39;49m\u001b[39mrt\u001b[39;49m\u001b[39m'\u001b[39;49m, encoding\u001b[39m=\u001b[39;49mencoding)\n\u001b[0;32m    993\u001b[0m     \u001b[39mif\u001b[39;00m encoding \u001b[39mis\u001b[39;00m \u001b[39mNone\u001b[39;00m:\n\u001b[0;32m    994\u001b[0m         encoding \u001b[39m=\u001b[39m \u001b[39mgetattr\u001b[39m(fh, \u001b[39m'\u001b[39m\u001b[39mencoding\u001b[39m\u001b[39m'\u001b[39m, \u001b[39m'\u001b[39m\u001b[39mlatin1\u001b[39m\u001b[39m'\u001b[39m)\n",
            "File \u001b[1;32m~\\AppData\\Local\\Packages\\PythonSoftwareFoundation.Python.3.11_qbz5n2kfra8p0\\LocalCache\\local-packages\\Python311\\site-packages\\numpy\\lib\\_datasource.py:193\u001b[0m, in \u001b[0;36mopen\u001b[1;34m(path, mode, destpath, encoding, newline)\u001b[0m\n\u001b[0;32m    156\u001b[0m \u001b[39m\u001b[39m\u001b[39m\"\"\"\u001b[39;00m\n\u001b[0;32m    157\u001b[0m \u001b[39mOpen `path` with `mode` and return the file object.\u001b[39;00m\n\u001b[0;32m    158\u001b[0m \n\u001b[1;32m   (...)\u001b[0m\n\u001b[0;32m    189\u001b[0m \n\u001b[0;32m    190\u001b[0m \u001b[39m\"\"\"\u001b[39;00m\n\u001b[0;32m    192\u001b[0m ds \u001b[39m=\u001b[39m DataSource(destpath)\n\u001b[1;32m--> 193\u001b[0m \u001b[39mreturn\u001b[39;00m ds\u001b[39m.\u001b[39;49mopen(path, mode, encoding\u001b[39m=\u001b[39;49mencoding, newline\u001b[39m=\u001b[39;49mnewline)\n",
            "File \u001b[1;32m~\\AppData\\Local\\Packages\\PythonSoftwareFoundation.Python.3.11_qbz5n2kfra8p0\\LocalCache\\local-packages\\Python311\\site-packages\\numpy\\lib\\_datasource.py:533\u001b[0m, in \u001b[0;36mDataSource.open\u001b[1;34m(self, path, mode, encoding, newline)\u001b[0m\n\u001b[0;32m    530\u001b[0m     \u001b[39mreturn\u001b[39;00m _file_openers[ext](found, mode\u001b[39m=\u001b[39mmode,\n\u001b[0;32m    531\u001b[0m                               encoding\u001b[39m=\u001b[39mencoding, newline\u001b[39m=\u001b[39mnewline)\n\u001b[0;32m    532\u001b[0m \u001b[39melse\u001b[39;00m:\n\u001b[1;32m--> 533\u001b[0m     \u001b[39mraise\u001b[39;00m \u001b[39mFileNotFoundError\u001b[39;00m(\u001b[39mf\u001b[39m\u001b[39m\"\u001b[39m\u001b[39m{\u001b[39;00mpath\u001b[39m}\u001b[39;00m\u001b[39m not found.\u001b[39m\u001b[39m\"\u001b[39m)\n",
            "\u001b[1;31mFileNotFoundError\u001b[0m: single_variable_linear_function-noise.csv not found."
          ]
        }
      ],
      "source": [
        "# file = np.genfromtxt(\"single_variable_linear_function-noise.csv\")\n",
        "# file = np.genfromtxt('./single_variable_linear_function-noise.csv')\n",
        "\n",
        "file = np.loadtxt('single_variable_linear_function-noise.csv');\n"
      ]
    },
    {
      "cell_type": "code",
      "execution_count": null,
      "id": "840651fa-a93f-44b0-b04c-3c001a4ebb0e",
      "metadata": {
        "trusted": true
      },
      "outputs": [],
      "source": [
        "file"
      ]
    },
    {
      "cell_type": "markdown",
      "id": "478b8f8c",
      "metadata": {},
      "source": [
        "library used for working with arrays"
      ]
    },
    {
      "cell_type": "markdown",
      "id": "a027c7dc",
      "metadata": {},
      "source": [
        "one of the most simple and common ways to store tabular data.\n"
      ]
    },
    {
      "cell_type": "markdown",
      "id": "29708f96-1e49-44a5-8660-7cdedada46d9",
      "metadata": {},
      "source": [
        "### A library to represent graphs "
      ]
    },
    {
      "cell_type": "code",
      "execution_count": null,
      "id": "d6ff35fa",
      "metadata": {
        "trusted": true
      },
      "outputs": [],
      "source": [
        "import pandas as pd\n",
        "x=file[:,0]\n",
        "y=file[:,1]"
      ]
    },
    {
      "cell_type": "code",
      "execution_count": null,
      "id": "86c6bb1a",
      "metadata": {
        "trusted": true
      },
      "outputs": [],
      "source": [
        "plt.scatter(x, y)"
      ]
    },
    {
      "cell_type": "code",
      "execution_count": null,
      "id": "69b92c73-c627-4f4c-9d72-5c905e6cf5c5",
      "metadata": {
        "trusted": true
      },
      "outputs": [],
      "source": [
        "$$\n",
        "\\Large f(m) = \\frac{1}{n} \\sum_{i=1}^n (m x_i - y_i)^2\n",
        "$$"
      ]
    },
    {
      "cell_type": "markdown",
      "id": "308777a0-7a40-45cf-8003-f96caaa8225c",
      "metadata": {},
      "source": [
        "### initialize m with a random number"
      ]
    },
    {
      "cell_type": "code",
      "execution_count": null,
      "id": "7d140621-8917-4c81-9a1c-f0eb5edd6fbb",
      "metadata": {
        "trusted": true
      },
      "outputs": [],
      "source": [
        "m = np.random.randint(-10,10)\n",
        "step = 0.001"
      ]
    },
    {
      "cell_type": "markdown",
      "id": "20feac98-bc62-44e1-825b-67fa79bbb25c",
      "metadata": {},
      "source": [
        "## <font color='red'> cost function <font/>\n",
        "### this calculates the average of the incorrect distances"
      ]
    },
    {
      "cell_type": "code",
      "execution_count": null,
      "id": "2938193d-70ba-4fd9-9564-9a04cfe3a4a7",
      "metadata": {
        "trusted": true
      },
      "outputs": [],
      "source": [
        "\\begin{equation*}\n",
        "\\left (\\sum_{i=1}^n (mx_i-y_i)^2 \\right)/n\n",
        "\\end{equation*}"
      ]
    },
    {
      "cell_type": "code",
      "execution_count": null,
      "id": "5883fce7-1a43-4b92-a2f4-3d2192309f98",
      "metadata": {
        "trusted": true
      },
      "outputs": [],
      "source": [
        "def cost (m):   \n",
        "    return ((x*m-y)**2).sum()/x.shape[0]"
      ]
    },
    {
      "cell_type": "markdown",
      "id": "f2a7be8c-a98b-44e1-a135-306f8196650f",
      "metadata": {},
      "source": [
        "## <font color='red'> d_cost function <font/>\n",
        "### This derivative of the COST function"
      ]
    },
    {
      "cell_type": "markdown",
      "id": "a610e1f0-fec1-4f92-920b-c9bf4c941933",
      "metadata": {},
      "source": [
        "\\begin{equation*}\n",
        "\\left (\\sum_{i=1}^n 2X_i(mx_i-y_i) \\right)/n\n",
        "\\end{equation*}"
      ]
    },
    {
      "cell_type": "code",
      "execution_count": null,
      "id": "d7d03c21-1b90-499c-af08-f3829e251574",
      "metadata": {
        "trusted": true
      },
      "outputs": [],
      "source": [
        "def d_cost(m):\n",
        "    return ((2*x)*(m*x-y)).sum()/x.shape[0]"
      ]
    },
    {
      "cell_type": "markdown",
      "id": "5aef074b-b661-4cf4-811d-d0d2ca16e31a",
      "metadata": {},
      "source": [
        "### this algorithm discover the point according to the step "
      ]
    },
    {
      "cell_type": "code",
      "execution_count": null,
      "id": "0f2cc76b-6c00-470a-8122-75ba86523327",
      "metadata": {
        "trusted": true
      },
      "outputs": [],
      "source": [
        "history=[]\n",
        "for i in range(10000):\n",
        "    m+=d_cost(m)*(-step)\n",
        "    history.append(cost(m))"
      ]
    },
    {
      "cell_type": "code",
      "execution_count": null,
      "id": "6a35c49c-be7e-4a9e-8c25-3f52236f8740",
      "metadata": {
        "trusted": true
      },
      "outputs": [],
      "source": [
        "m"
      ]
    },
    {
      "cell_type": "markdown",
      "id": "898e00ff-1dc2-444c-ae41-76237c7543b6",
      "metadata": {},
      "source": [
        "### Drawing the history of the <font color='red'>COST </font> function during execution the <font color='red'> D_COST </font> function"
      ]
    },
    {
      "cell_type": "code",
      "execution_count": null,
      "id": "169346e8-c3b8-438e-94e1-f242cee859f0",
      "metadata": {
        "trusted": true
      },
      "outputs": [],
      "source": [
        "plt.plot(history)"
      ]
    }
  ],
  "metadata": {
    "kernelspec": {
      "display_name": "Python 3",
      "language": "python",
      "name": "python3"
    },
    "language_info": {
      "codemirror_mode": {
        "name": "ipython",
        "version": 3
      },
      "file_extension": ".py",
      "mimetype": "text/x-python",
      "name": "python",
      "nbconvert_exporter": "python",
      "pygments_lexer": "ipython3",
      "version": "3.11.7"
    }
  },
  "nbformat": 4,
  "nbformat_minor": 5
}
